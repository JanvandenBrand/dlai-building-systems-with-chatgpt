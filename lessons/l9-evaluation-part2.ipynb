{
 "cells": [
  {
   "cell_type": "code",
   "execution_count": 1,
   "metadata": {},
   "outputs": [],
   "source": [
    "import os\n",
    "import sys\n",
    "import openai\n",
    "from openai import OpenAI\n",
    "module_path = os.path.abspath(os.path.join('..'))\n",
    "if module_path not in sys.path:\n",
    "    sys.path.append(module_path)\n",
    "from dotenv import load_dotenv\n",
    "\n",
    "_ = load_dotenv(\"/home/janvandenbrand/repos/dlai-building-systems-with-chatgpt/.env\")\n",
    "\n",
    "client = OpenAI()"
   ]
  },
  {
   "cell_type": "code",
   "execution_count": 2,
   "metadata": {},
   "outputs": [],
   "source": [
    "import src.utils as utils"
   ]
  },
  {
   "cell_type": "code",
   "execution_count": 3,
   "metadata": {},
   "outputs": [],
   "source": [
    "def get_completion_from_messages(messages,\n",
    "                                 model=\"gpt-3.5-turbo\",\n",
    "                                 temperature=0,\n",
    "                                 max_tokens=500):\n",
    "    response = openai.chat.completions.create(\n",
    "        messages=messages,\n",
    "        model=model,\n",
    "        temperature=temperature,\n",
    "        max_tokens=max_tokens\n",
    "    )\n",
    "    return response.choices[0].message.content"
   ]
  },
  {
   "cell_type": "code",
   "execution_count": 4,
   "metadata": {},
   "outputs": [],
   "source": [
    "customer_msg = f\"\"\"\n",
    "tell me about the smartx pro phone and the fotosnap camera, the dslr one.\n",
    "Also, what TVs or TV related products do you have?\"\"\"\n",
    "\n",
    "products_by_category = utils.get_products_from_query(customer_msg)\n",
    "category_and_product_list = utils.read_string_to_list(products_by_category)\n",
    "product_info = utils.get_mentioned_product_info(category_and_product_list)\n",
    "assistant_answer = utils.answer_user_msg(user_msg=customer_msg,\n",
    "                                                   product_info=product_info)"
   ]
  },
  {
   "cell_type": "code",
   "execution_count": 5,
   "metadata": {},
   "outputs": [
    {
     "name": "stdout",
     "output_type": "stream",
     "text": [
      "Sure! Let me provide you with some information about the SmartX ProPhone and the FotoSnap DSLR Camera.\n",
      "\n",
      "The SmartX ProPhone is a powerful smartphone with advanced camera features. It has a 6.1-inch display, 128GB storage, a 12MP dual camera, and supports 5G connectivity. The SmartX ProPhone is priced at $899.99 and comes with a 1-year warranty.\n",
      "\n",
      "The FotoSnap DSLR Camera is a versatile camera that allows you to capture stunning photos and videos. It features a 24.2MP sensor, 1080p video recording, a 3-inch LCD screen, and supports interchangeable lenses. The FotoSnap DSLR Camera is priced at $599.99 and also comes with a 1-year warranty.\n",
      "\n",
      "As for TVs and TV-related products, we have a variety of options available. Some of our popular TV models include the CineView 4K TV, CineView 8K TV, and CineView OLED TV. We also have home theater systems like the SoundMax Home Theater and SoundMax Soundbar. Could you please let me know your specific requirements or preferences so that I can assist you better?\n"
     ]
    }
   ],
   "source": [
    "print(assistant_answer)"
   ]
  },
  {
   "cell_type": "code",
   "execution_count": 6,
   "metadata": {},
   "outputs": [],
   "source": [
    "cust_prod_info = {\n",
    "    'customer_msg': customer_msg,\n",
    "    'context': product_info\n",
    "}"
   ]
  },
  {
   "cell_type": "code",
   "execution_count": 7,
   "metadata": {},
   "outputs": [],
   "source": [
    "def eval_with_rubric(test_set, assistant_answer):\n",
    "\n",
    "    cust_msg = test_set['customer_msg']\n",
    "    context = test_set['context']\n",
    "    completion = assistant_answer\n",
    "    \n",
    "    system_message = \"\"\"\\\n",
    "    You are an assistant that evaluates how well the customer service agent \\\n",
    "    answers a user question by looking at the context that the customer service \\\n",
    "    agent is using to generate its response. \n",
    "    \"\"\"\n",
    "\n",
    "    user_message = f\"\"\"\\\n",
    "    You are evaluating a submitted answer to a question based on the context \\\n",
    "    that the agent uses to answer the question.\n",
    "    Here is the data:\n",
    "    [BEGIN DATA]\n",
    "    ************\n",
    "    [Question]: {cust_msg}\n",
    "    ************\n",
    "    [Context]: {context}\n",
    "    ************\n",
    "    [Submission]: {completion}\n",
    "    ************\n",
    "    [END DATA]\n",
    "\n",
    "    Compare the factual content of the submitted answer with the context. \\\n",
    "    Ignore any differences in style, grammar, or punctuation.\n",
    "    Answer the following questions:\n",
    "        - Is the Assistant response based only on the context provided? (Y or N)\n",
    "        - Does the answer include information that is not provided in the context? (Y or N)\n",
    "        - Is there any disagreement between the response and the context? (Y or N)\n",
    "        - Count how many questions the user asked. (output a number)\n",
    "        - For each question that the user asked, is there a corresponding answer to it?\n",
    "        Question 1: (Y or N)\n",
    "        Question 2: (Y or N)\n",
    "        ...\n",
    "        Question N: (Y or N)\n",
    "        - Of the number of questions asked, how many of these questions were addressed by the answer? (output a number)\n",
    "    \"\"\"\n",
    "\n",
    "    messages = [\n",
    "        {'role': 'system', 'content': system_message},\n",
    "        {'role': 'user', 'content': user_message}\n",
    "    ]\n",
    "\n",
    "    response = get_completion_from_messages(messages)\n",
    "    return response"
   ]
  },
  {
   "cell_type": "code",
   "execution_count": 8,
   "metadata": {},
   "outputs": [
    {
     "name": "stdout",
     "output_type": "stream",
     "text": [
      "- Is the Assistant response based only on the context provided? (Y or N)\n",
      "Y\n",
      "\n",
      "- Does the answer include information that is not provided in the context? (Y or N)\n",
      "N\n",
      "\n",
      "- Is there any disagreement between the response and the context? (Y or N)\n",
      "N\n",
      "\n",
      "- Count how many questions the user asked. (output a number)\n",
      "2\n",
      "\n",
      "- For each question that the user asked, is there a corresponding answer to it?\n",
      "Question 1: Y\n",
      "Question 2: Y\n",
      "\n",
      "- Of the number of questions asked, how many of these questions were addressed by the answer? (output a number)\n",
      "2\n"
     ]
    }
   ],
   "source": [
    "evaluation_output = eval_with_rubric(cust_prod_info, assistant_answer)\n",
    "print(evaluation_output)"
   ]
  },
  {
   "cell_type": "code",
   "execution_count": 9,
   "metadata": {},
   "outputs": [],
   "source": [
    "test_set_ideal = {\n",
    "    'customer_msg': \"\"\"\\\n",
    "    tell me about the smartx pro phone and the fotosnap camera, the dslr one.\n",
    "    Also, what TVs or TV related products do you have?\"\"\",\n",
    "        'ideal_answer':\"\"\"\\\n",
    "    Of course!  The SmartX ProPhone is a powerful \\\n",
    "    smartphone with advanced camera features. \\\n",
    "    For instance, it has a 12MP dual camera. \\\n",
    "    Other features include 5G wireless and 128GB storage. \\\n",
    "    It also has a 6.1-inch display.  The price is $899.99.\n",
    "\n",
    "    The FotoSnap DSLR Camera is great for \\\n",
    "    capturing stunning photos and videos. \\\n",
    "    Some features include 1080p video, \\\n",
    "    3-inch LCD, a 24.2MP sensor, \\\n",
    "    and interchangeable lenses. \\\n",
    "    The price is 599.99.\n",
    "\n",
    "    For TVs and TV related products, we offer 3 TVs \\\n",
    "\n",
    "\n",
    "    All TVs offer HDR and Smart TV.\n",
    "\n",
    "    The CineView 4K TV has vibrant colors and smart features. \\\n",
    "    Some of these features include a 55-inch display, \\\n",
    "    '4K resolution. It's priced at 599.\n",
    "\n",
    "    The CineView 8K TV is a stunning 8K TV. \\\n",
    "    Some features include a 65-inch display and \\\n",
    "    8K resolution.  It's priced at 2999.99\n",
    "\n",
    "    The CineView OLED TV lets you experience vibrant colors. \\\n",
    "    Some features include a 55-inch display and 4K resolution. \\\n",
    "    It's priced at 1499.99.\n",
    "\n",
    "    We also offer 2 home theater products, both which include bluetooth.\\\n",
    "    The SoundMax Home Theater is a powerful home theater system for \\\n",
    "    an immmersive audio experience.\n",
    "    Its features include 5.1 channel, 1000W output, and wireless subwoofer.\n",
    "    It's priced at 399.99.\n",
    "\n",
    "    The SoundMax Soundbar is a sleek and powerful soundbar.\n",
    "    It's features include 2.1 channel, 300W output, and wireless subwoofer.\n",
    "    It's priced at 199.99\n",
    "\n",
    "    Are there any questions additional you may have about these products \\\n",
    "    that you mentioned here?\n",
    "    Or may do you have other questions I can help you with?\n",
    "    \"\"\"\n",
    "}"
   ]
  },
  {
   "cell_type": "code",
   "execution_count": 10,
   "metadata": {},
   "outputs": [],
   "source": [
    "def eval_vs_ideal(test_set, assistant_answer):\n",
    "\n",
    "    cust_msg = test_set['customer_msg']\n",
    "    ideal = test_set['ideal_answer']\n",
    "    completion = assistant_answer\n",
    "    \n",
    "    system_message = \"\"\"\\\n",
    "    You are an assistant that evaluates how well the customer service agent \\\n",
    "    answers a user question by comparing the response to the ideal (expert) response\n",
    "    Output a single letter and nothing else. \n",
    "    \"\"\"\n",
    "\n",
    "    user_message = f\"\"\"\\\n",
    "    You are comparing a submitted answer to an expert answer on a given question. Here is the data:\n",
    "        [BEGIN DATA]\n",
    "        ************\n",
    "        [Question]: {cust_msg}\n",
    "        ************\n",
    "        [Expert]: {ideal}\n",
    "        ************\n",
    "        [Submission]: {completion}\n",
    "        ************\n",
    "        [END DATA]\n",
    "\n",
    "    Compare the factual content of the submitted answer with the expert answer. Ignore any differences in style, grammar, or punctuation.\n",
    "        The submitted answer may either be a subset or superset of the expert answer, or it may conflict with it. Determine which case applies. Answer the question by selecting one of the following options:\n",
    "        (A) The submitted answer is a subset of the expert answer and is fully consistent with it.\n",
    "        (B) The submitted answer is a superset of the expert answer and is fully consistent with it.\n",
    "        (C) The submitted answer contains all the same details as the expert answer.\n",
    "        (D) The answers differ, but these differences don't matter from the perspective of factuality.\n",
    "        (E) There is a disagreement between the submitted answer and the expert answer.\n",
    "    choice_strings: ABCDE\n",
    "    \"\"\"\n",
    "\n",
    "    messages = [\n",
    "        {'role': 'system', 'content': system_message},\n",
    "        {'role': 'user', 'content': user_message}\n",
    "    ]\n",
    "\n",
    "    response = get_completion_from_messages(messages)\n",
    "    return response"
   ]
  },
  {
   "cell_type": "code",
   "execution_count": 11,
   "metadata": {},
   "outputs": [
    {
     "name": "stdout",
     "output_type": "stream",
     "text": [
      "Sure! Let me provide you with some information about the SmartX ProPhone and the FotoSnap DSLR Camera.\n",
      "\n",
      "The SmartX ProPhone is a powerful smartphone with advanced camera features. It has a 6.1-inch display, 128GB storage, a 12MP dual camera, and supports 5G connectivity. The SmartX ProPhone is priced at $899.99 and comes with a 1-year warranty.\n",
      "\n",
      "The FotoSnap DSLR Camera is a versatile camera that allows you to capture stunning photos and videos. It features a 24.2MP sensor, 1080p video recording, a 3-inch LCD screen, and supports interchangeable lenses. The FotoSnap DSLR Camera is priced at $599.99 and also comes with a 1-year warranty.\n",
      "\n",
      "As for TVs and TV-related products, we have a variety of options available. Some of our popular TV models include the CineView 4K TV, CineView 8K TV, and CineView OLED TV. We also have home theater systems like the SoundMax Home Theater and SoundMax Soundbar. Could you please let me know your specific requirements or preferences so that I can assist you better?\n"
     ]
    }
   ],
   "source": [
    "print(assistant_answer)"
   ]
  },
  {
   "cell_type": "code",
   "execution_count": 12,
   "metadata": {},
   "outputs": [
    {
     "data": {
      "text/plain": [
       "'C'"
      ]
     },
     "execution_count": 12,
     "metadata": {},
     "output_type": "execute_result"
    }
   ],
   "source": [
    "eval_vs_ideal(test_set=test_set_ideal, \n",
    "              assistant_answer=assistant_answer)"
   ]
  },
  {
   "cell_type": "code",
   "execution_count": 13,
   "metadata": {},
   "outputs": [],
   "source": [
    "assistant_answer_2=\"life is like a box of chocolates\""
   ]
  },
  {
   "cell_type": "code",
   "execution_count": 14,
   "metadata": {},
   "outputs": [
    {
     "data": {
      "text/plain": [
       "'E'"
      ]
     },
     "execution_count": 14,
     "metadata": {},
     "output_type": "execute_result"
    }
   ],
   "source": [
    "eval_vs_ideal(test_set=test_set_ideal,\n",
    "              assistant_answer=assistant_answer_2)"
   ]
  }
 ],
 "metadata": {
  "kernelspec": {
   "display_name": ".venv",
   "language": "python",
   "name": "python3"
  },
  "language_info": {
   "codemirror_mode": {
    "name": "ipython",
    "version": 3
   },
   "file_extension": ".py",
   "mimetype": "text/x-python",
   "name": "python",
   "nbconvert_exporter": "python",
   "pygments_lexer": "ipython3",
   "version": "3.8.10"
  }
 },
 "nbformat": 4,
 "nbformat_minor": 2
}
