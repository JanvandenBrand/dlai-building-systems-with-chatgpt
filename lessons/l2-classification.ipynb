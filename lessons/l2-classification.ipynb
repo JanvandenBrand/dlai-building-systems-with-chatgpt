{
 "cells": [
  {
   "cell_type": "markdown",
   "metadata": {},
   "source": [
    "# L2 Evaluate inputs: Classification\n",
    "## Setup\n",
    "### Load API key and python libs"
   ]
  },
  {
   "cell_type": "code",
   "execution_count": 2,
   "metadata": {},
   "outputs": [],
   "source": [
    "import openai\n",
    "from openai import OpenAI\n",
    "from dotenv import load_dotenv, find_dotenv\n",
    "_ = load_dotenv('/home/janvandenbrand/repos/dlai-building-systems-with-chatgpt/.env')\n",
    "\n",
    "client = OpenAI()"
   ]
  },
  {
   "cell_type": "code",
   "execution_count": 4,
   "metadata": {},
   "outputs": [],
   "source": [
    "def get_completion_from_messages(messages,\n",
    "                                model='gpt-3.5-turbo',\n",
    "                                temperature=0,\n",
    "                                max_tokens=500):\n",
    "    response = openai.chat.completions.create(\n",
    "        model=model,\n",
    "        messages=messages,\n",
    "        temperature=temperature,\n",
    "        max_tokens=max_tokens\n",
    "    )\n",
    "    return response.choices[0].message.content"
   ]
  },
  {
   "cell_type": "markdown",
   "metadata": {},
   "source": [
    "## Classify queries"
   ]
  },
  {
   "cell_type": "code",
   "execution_count": 7,
   "metadata": {},
   "outputs": [
    {
     "name": "stdout",
     "output_type": "stream",
     "text": [
      "{\n",
      "  \"primary\": \"Account Management\",\n",
      "  \"secondary\": \"Close account\"\n",
      "}\n"
     ]
    }
   ],
   "source": [
    "delimiter = '###'\n",
    "system_message = f\"\"\"\n",
    "You will be provide with customer service queries. The customer servide will be delimited with {delimiter} characters.\n",
    "Classify each query into a primary category and a secondary category.\n",
    "Provide your output in json format with the keys: primary and secondary.\n",
    "\n",
    "Primary categories: Billing, Technical Support, Account Management, or General Inquiry.\n",
    "\n",
    "Billing secondary categories: \n",
    "Unsubscribe or upgrade\n",
    "Add a payment method\n",
    "Explanation for a charge\n",
    "Dispute a charge\n",
    "\n",
    "Technical Support secondary categories:\n",
    "General troubleshooting\n",
    "Device compatibility\n",
    "Software updates\n",
    "\n",
    "Account Management secondary categories:\n",
    "Password reset\n",
    "Update personal information\n",
    "Close account\n",
    "Account security\n",
    "\n",
    "General Inquiry secondary categories:\n",
    "Product information\n",
    "Pricing\n",
    "Feedback\n",
    "Speak to a human\n",
    "\"\"\"\n",
    "user_message = f\"\"\"\n",
    "I want you to delete my profile and all of my user data\n",
    "\"\"\"\n",
    "messages = [\n",
    "    {\n",
    "        'role': 'system',\n",
    "        'content': system_message\n",
    "    },\n",
    "    {\n",
    "        'role': 'user',\n",
    "        'content': f'{delimiter}{user_message}{delimiter}'\n",
    "    }\n",
    "]\n",
    "response = get_completion_from_messages(messages)\n",
    "print(response)"
   ]
  },
  {
   "cell_type": "code",
   "execution_count": 9,
   "metadata": {},
   "outputs": [
    {
     "name": "stdout",
     "output_type": "stream",
     "text": [
      "{\n",
      "  \"primary\": \"General Inquiry\",\n",
      "  \"secondary\": \"Product information\"\n",
      "}\n"
     ]
    }
   ],
   "source": [
    "user_message = f\"\"\"\n",
    "Tell me more about your flat screen tvs\n",
    "\"\"\"\n",
    "messages = [\n",
    "    { \n",
    "        'role': 'system',\n",
    "        'content': system_message\n",
    "    },\n",
    "    {\n",
    "        'role': 'user',\n",
    "        'content': f'{delimiter}{user_message}{delimiter}'\n",
    "    }\n",
    "]\n",
    "response = get_completion_from_messages(messages)\n",
    "print(response)"
   ]
  }
 ],
 "metadata": {
  "kernelspec": {
   "display_name": ".dlai",
   "language": "python",
   "name": "python3"
  },
  "language_info": {
   "codemirror_mode": {
    "name": "ipython",
    "version": 3
   },
   "file_extension": ".py",
   "mimetype": "text/x-python",
   "name": "python",
   "nbconvert_exporter": "python",
   "pygments_lexer": "ipython3",
   "version": "3.8.10"
  }
 },
 "nbformat": 4,
 "nbformat_minor": 2
}
